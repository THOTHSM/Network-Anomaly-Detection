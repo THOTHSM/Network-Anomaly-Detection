{
 "cells": [
  {
   "cell_type": "markdown",
   "id": "2864ab84-c1af-4e8e-b819-12b529fac0e5",
   "metadata": {},
   "source": [
    "# <i> <center> <b>  Network Anomaly Detection ML Modeling"
   ]
  },
  {
   "cell_type": "code",
   "execution_count": 2,
   "id": "63714b07-283b-47fd-b2f0-f6f8f014747a",
   "metadata": {},
   "outputs": [],
   "source": [
    "%%capture\n",
    "!pip install category_encoders\n",
    "!pip install imbalanced-learn\n",
    "!pip install matplotlib"
   ]
  },
  {
   "cell_type": "code",
   "execution_count": 3,
   "id": "83a1c14d-7dba-40ec-bf83-51a4aba450e4",
   "metadata": {},
   "outputs": [],
   "source": [
    "import numpy as np\n",
    "import pandas as pd\n",
    "import matplotlib.pyplot as plt\n",
    "import seaborn as sns\n",
    "from scipy import stats\n",
    "from sklearn.preprocessing import LabelEncoder\n",
    "import category_encoders as ce\n",
    "from collections import Counter\n",
    "from imblearn.over_sampling import SMOTE\n",
    "from sklearn.model_selection import train_test_split\n",
    "from sklearn.metrics import precision_score, recall_score, f1_score, classification_report, confusion_matrix"
   ]
  },
  {
   "cell_type": "markdown",
   "id": "1e86fbad-d888-4fc3-bc23-fdc5f069d487",
   "metadata": {
    "jp-MarkdownHeadingCollapsed": true
   },
   "source": [
    "### <b> <i> Data Processing : EDA "
   ]
  },
  {
   "cell_type": "code",
   "execution_count": 4,
   "id": "728912d5-a78d-4c32-befb-3db5139aaf5f",
   "metadata": {},
   "outputs": [
    {
     "data": {
      "text/html": [
       "<div>\n",
       "<style scoped>\n",
       "    .dataframe tbody tr th:only-of-type {\n",
       "        vertical-align: middle;\n",
       "    }\n",
       "\n",
       "    .dataframe tbody tr th {\n",
       "        vertical-align: top;\n",
       "    }\n",
       "\n",
       "    .dataframe thead th {\n",
       "        text-align: right;\n",
       "    }\n",
       "</style>\n",
       "<table border=\"1\" class=\"dataframe\">\n",
       "  <thead>\n",
       "    <tr style=\"text-align: right;\">\n",
       "      <th></th>\n",
       "      <th>duration</th>\n",
       "      <th>protocoltype</th>\n",
       "      <th>service</th>\n",
       "      <th>flag</th>\n",
       "      <th>srcbytes</th>\n",
       "      <th>dstbytes</th>\n",
       "      <th>land</th>\n",
       "      <th>wrongfragment</th>\n",
       "      <th>urgent</th>\n",
       "      <th>hot</th>\n",
       "      <th>...</th>\n",
       "      <th>dsthostsamesrvrate</th>\n",
       "      <th>dsthostdiffsrvrate</th>\n",
       "      <th>dsthostsamesrcportrate</th>\n",
       "      <th>dsthostsrvdiffhostrate</th>\n",
       "      <th>dsthostserrorrate</th>\n",
       "      <th>dsthostsrvserrorrate</th>\n",
       "      <th>dsthostrerrorrate</th>\n",
       "      <th>dsthostsrvrerrorrate</th>\n",
       "      <th>attack</th>\n",
       "      <th>lastflag</th>\n",
       "    </tr>\n",
       "  </thead>\n",
       "  <tbody>\n",
       "    <tr>\n",
       "      <th>0</th>\n",
       "      <td>0</td>\n",
       "      <td>tcp</td>\n",
       "      <td>ftp_data</td>\n",
       "      <td>SF</td>\n",
       "      <td>491</td>\n",
       "      <td>0</td>\n",
       "      <td>0</td>\n",
       "      <td>0</td>\n",
       "      <td>0</td>\n",
       "      <td>0</td>\n",
       "      <td>...</td>\n",
       "      <td>0.17</td>\n",
       "      <td>0.03</td>\n",
       "      <td>0.17</td>\n",
       "      <td>0.00</td>\n",
       "      <td>0.00</td>\n",
       "      <td>0.00</td>\n",
       "      <td>0.05</td>\n",
       "      <td>0.00</td>\n",
       "      <td>normal</td>\n",
       "      <td>20</td>\n",
       "    </tr>\n",
       "    <tr>\n",
       "      <th>1</th>\n",
       "      <td>0</td>\n",
       "      <td>udp</td>\n",
       "      <td>other</td>\n",
       "      <td>SF</td>\n",
       "      <td>146</td>\n",
       "      <td>0</td>\n",
       "      <td>0</td>\n",
       "      <td>0</td>\n",
       "      <td>0</td>\n",
       "      <td>0</td>\n",
       "      <td>...</td>\n",
       "      <td>0.00</td>\n",
       "      <td>0.60</td>\n",
       "      <td>0.88</td>\n",
       "      <td>0.00</td>\n",
       "      <td>0.00</td>\n",
       "      <td>0.00</td>\n",
       "      <td>0.00</td>\n",
       "      <td>0.00</td>\n",
       "      <td>normal</td>\n",
       "      <td>15</td>\n",
       "    </tr>\n",
       "    <tr>\n",
       "      <th>2</th>\n",
       "      <td>0</td>\n",
       "      <td>tcp</td>\n",
       "      <td>private</td>\n",
       "      <td>S0</td>\n",
       "      <td>0</td>\n",
       "      <td>0</td>\n",
       "      <td>0</td>\n",
       "      <td>0</td>\n",
       "      <td>0</td>\n",
       "      <td>0</td>\n",
       "      <td>...</td>\n",
       "      <td>0.10</td>\n",
       "      <td>0.05</td>\n",
       "      <td>0.00</td>\n",
       "      <td>0.00</td>\n",
       "      <td>1.00</td>\n",
       "      <td>1.00</td>\n",
       "      <td>0.00</td>\n",
       "      <td>0.00</td>\n",
       "      <td>neptune</td>\n",
       "      <td>19</td>\n",
       "    </tr>\n",
       "    <tr>\n",
       "      <th>3</th>\n",
       "      <td>0</td>\n",
       "      <td>tcp</td>\n",
       "      <td>http</td>\n",
       "      <td>SF</td>\n",
       "      <td>232</td>\n",
       "      <td>8153</td>\n",
       "      <td>0</td>\n",
       "      <td>0</td>\n",
       "      <td>0</td>\n",
       "      <td>0</td>\n",
       "      <td>...</td>\n",
       "      <td>1.00</td>\n",
       "      <td>0.00</td>\n",
       "      <td>0.03</td>\n",
       "      <td>0.04</td>\n",
       "      <td>0.03</td>\n",
       "      <td>0.01</td>\n",
       "      <td>0.00</td>\n",
       "      <td>0.01</td>\n",
       "      <td>normal</td>\n",
       "      <td>21</td>\n",
       "    </tr>\n",
       "    <tr>\n",
       "      <th>4</th>\n",
       "      <td>0</td>\n",
       "      <td>tcp</td>\n",
       "      <td>http</td>\n",
       "      <td>SF</td>\n",
       "      <td>199</td>\n",
       "      <td>420</td>\n",
       "      <td>0</td>\n",
       "      <td>0</td>\n",
       "      <td>0</td>\n",
       "      <td>0</td>\n",
       "      <td>...</td>\n",
       "      <td>1.00</td>\n",
       "      <td>0.00</td>\n",
       "      <td>0.00</td>\n",
       "      <td>0.00</td>\n",
       "      <td>0.00</td>\n",
       "      <td>0.00</td>\n",
       "      <td>0.00</td>\n",
       "      <td>0.00</td>\n",
       "      <td>normal</td>\n",
       "      <td>21</td>\n",
       "    </tr>\n",
       "  </tbody>\n",
       "</table>\n",
       "<p>5 rows × 43 columns</p>\n",
       "</div>"
      ],
      "text/plain": [
       "   duration protocoltype   service flag  srcbytes  dstbytes  land  \\\n",
       "0         0          tcp  ftp_data   SF       491         0     0   \n",
       "1         0          udp     other   SF       146         0     0   \n",
       "2         0          tcp   private   S0         0         0     0   \n",
       "3         0          tcp      http   SF       232      8153     0   \n",
       "4         0          tcp      http   SF       199       420     0   \n",
       "\n",
       "   wrongfragment  urgent  hot  ...  dsthostsamesrvrate  dsthostdiffsrvrate  \\\n",
       "0              0       0    0  ...                0.17                0.03   \n",
       "1              0       0    0  ...                0.00                0.60   \n",
       "2              0       0    0  ...                0.10                0.05   \n",
       "3              0       0    0  ...                1.00                0.00   \n",
       "4              0       0    0  ...                1.00                0.00   \n",
       "\n",
       "   dsthostsamesrcportrate  dsthostsrvdiffhostrate  dsthostserrorrate  \\\n",
       "0                    0.17                    0.00               0.00   \n",
       "1                    0.88                    0.00               0.00   \n",
       "2                    0.00                    0.00               1.00   \n",
       "3                    0.03                    0.04               0.03   \n",
       "4                    0.00                    0.00               0.00   \n",
       "\n",
       "   dsthostsrvserrorrate  dsthostrerrorrate  dsthostsrvrerrorrate   attack  \\\n",
       "0                  0.00               0.05                  0.00   normal   \n",
       "1                  0.00               0.00                  0.00   normal   \n",
       "2                  1.00               0.00                  0.00  neptune   \n",
       "3                  0.01               0.00                  0.01   normal   \n",
       "4                  0.00               0.00                  0.00   normal   \n",
       "\n",
       "   lastflag  \n",
       "0        20  \n",
       "1        15  \n",
       "2        19  \n",
       "3        21  \n",
       "4        21  \n",
       "\n",
       "[5 rows x 43 columns]"
      ]
     },
     "execution_count": 4,
     "metadata": {},
     "output_type": "execute_result"
    }
   ],
   "source": [
    "df=pd.read_csv('NAD.csv')\n",
    "df.head()"
   ]
  },
  {
   "cell_type": "code",
   "execution_count": 5,
   "id": "10ec6a3b-28c7-4d06-a277-6033dc34197f",
   "metadata": {},
   "outputs": [
    {
     "data": {
      "text/plain": [
       "duration                  0\n",
       "protocoltype              0\n",
       "service                   0\n",
       "flag                      0\n",
       "srcbytes                  0\n",
       "dstbytes                  0\n",
       "land                      0\n",
       "wrongfragment             0\n",
       "urgent                    0\n",
       "hot                       0\n",
       "numfailedlogins           0\n",
       "loggedin                  0\n",
       "numcompromised            0\n",
       "rootshell                 0\n",
       "suattempted               0\n",
       "numroot                   0\n",
       "numfilecreations          0\n",
       "numshells                 0\n",
       "numaccessfiles            0\n",
       "numoutboundcmds           0\n",
       "ishostlogin               0\n",
       "isguestlogin              0\n",
       "count                     0\n",
       "srvcount                  0\n",
       "serrorrate                0\n",
       "srvserrorrate             0\n",
       "rerrorrate                0\n",
       "srvrerrorrate             0\n",
       "samesrvrate               0\n",
       "diffsrvrate               0\n",
       "srvdiffhostrate           0\n",
       "dsthostcount              0\n",
       "dsthostsrvcount           0\n",
       "dsthostsamesrvrate        0\n",
       "dsthostdiffsrvrate        0\n",
       "dsthostsamesrcportrate    0\n",
       "dsthostsrvdiffhostrate    0\n",
       "dsthostserrorrate         0\n",
       "dsthostsrvserrorrate      0\n",
       "dsthostrerrorrate         0\n",
       "dsthostsrvrerrorrate      0\n",
       "attack                    0\n",
       "lastflag                  0\n",
       "dtype: int64"
      ]
     },
     "execution_count": 5,
     "metadata": {},
     "output_type": "execute_result"
    }
   ],
   "source": [
    "df.isnull().sum()"
   ]
  },
  {
   "cell_type": "code",
   "execution_count": 6,
   "id": "779f3b16-3fc0-4627-a2a8-9a863d564660",
   "metadata": {},
   "outputs": [
    {
     "name": "stdout",
     "output_type": "stream",
     "text": [
      "Duplicates: 0\n"
     ]
    }
   ],
   "source": [
    "# Checking for duplicates\n",
    "duplicates = df.duplicated().sum()\n",
    "print(f'Duplicates: {duplicates}')\n",
    "\n",
    "# Removing duplicates\n",
    "df = df.drop_duplicates()"
   ]
  },
  {
   "cell_type": "code",
   "execution_count": 7,
   "id": "58a3fbce-547f-4368-bfa8-50c947fb1cb5",
   "metadata": {},
   "outputs": [],
   "source": [
    "# Converting categorical columns to lowercase\n",
    "df['protocoltype'] = df['protocoltype'].str.lower()\n",
    "df['service'] = df['service'].str.lower()\n",
    "df['flag'] = df['flag'].str.lower()"
   ]
  },
  {
   "cell_type": "markdown",
   "id": "d446747b-922d-4a17-87a2-02d2646ce30e",
   "metadata": {},
   "source": [
    "#### <i> Outlier Detection: </i>"
   ]
  },
  {
   "cell_type": "code",
   "execution_count": 8,
   "id": "3be0fe89-98b5-49c1-af8b-de1ec6823fad",
   "metadata": {},
   "outputs": [
    {
     "data": {
      "image/png": "[encoded data removed]",
      "text/plain": [
       "<Figure size 800x400 with 1 Axes>"
      ]
     },
     "metadata": {},
     "output_type": "display_data"
    }
   ],
   "source": [
    "plt.figure(figsize=(8,4))\n",
    "sns.boxplot(data=df.select_dtypes(include=['number']))  # Plot box plots only for numerical columns\n",
    "plt.xticks(rotation=90)  # Rotate feature names for better readability\n",
    "plt.title('Box Plot of Numerical Features')\n",
    "plt.show()"
   ]
  },
  {
   "cell_type": "code",
   "execution_count": 9,
   "id": "a0e64145-2730-48aa-8ef6-236f69c2d2c0",
   "metadata": {},
   "outputs": [
    {
     "name": "stdout",
     "output_type": "stream",
     "text": [
      "Common outliers size identified by both methods and original data size :\n",
      "(16570,) (125973, 43)\n",
      "Data size after dropping outliers: \n",
      "(109403, 43)\n"
     ]
    }
   ],
   "source": [
    "# Selecting only numeric columns\n",
    "numeric_df = df.select_dtypes(include=[np.number])\n",
    "# Step 1: Z-Score Method\n",
    "# Calculating Z-Scores for each column\n",
    "z_scores = stats.zscore(numeric_df)\n",
    "z_scores_df = pd.DataFrame(z_scores, columns=numeric_df.columns)\n",
    "z_threshold = 3.5\n",
    "# Identifying outliers based on Z-scores\n",
    "z_outliers = (z_scores_df.abs() > z_threshold)\n",
    "z_outlier_indices = z_outliers[z_outliers.any(axis=1)].index\n",
    "# Step 2: IQR Method\n",
    "# Calculating Q1 (25th percentile) and Q3 (75th percentile)\n",
    "Q1 = numeric_df.quantile(0.25)\n",
    "Q3 = numeric_df.quantile(0.75)\n",
    "IQR = Q3 - Q1\n",
    "iqr_threshold = 1.5 \n",
    "iqr_outliers = ((numeric_df < (Q1 - iqr_threshold * IQR)) | (numeric_df > (Q3 + iqr_threshold * IQR)))\n",
    "iqr_outlier_indices = iqr_outliers[iqr_outliers.any(axis=1)].index\n",
    "# Finding common outliers\n",
    "common_outlier_indices = z_outlier_indices.intersection(iqr_outlier_indices)\n",
    "# Printing the size of common outliers and original data\n",
    "print(\"Common outliers size identified by both methods and original data size :\")\n",
    "print(common_outlier_indices.shape, df.shape)\n",
    "# Dropping the common outliers from the DataFrame\n",
    "df_cleaned = df.drop(index=common_outlier_indices, errors='ignore')\n",
    "\n",
    "df_cleaned.reset_index(drop=True, inplace=True)\n",
    "# Verifying the size after dropping outliers\n",
    "print(\"Data size after dropping outliers: \")\n",
    "print(df_cleaned.shape)"
   ]
  },
  {
   "cell_type": "code",
   "execution_count": 10,
   "id": "3feec6b9-40b1-4b1c-9e34-e6ea9ed7c116",
   "metadata": {},
   "outputs": [],
   "source": [
    "df=df_cleaned"
   ]
  },
  {
   "cell_type": "markdown",
   "id": "b90b911d-3062-4488-a939-3f1ade452635",
   "metadata": {},
   "source": [
    "#### <i>Feature Engineering "
   ]
  },
  {
   "cell_type": "code",
   "execution_count": 11,
   "id": "d300eff1-1660-4fcb-9669-6e89a8cb7f43",
   "metadata": {},
   "outputs": [],
   "source": [
    "df['total_bytes'] = df['srcbytes'] + df['dstbytes']\n",
    "df['byte_ratio'] = df['srcbytes'] / (df['dstbytes'] + 1)"
   ]
  },
  {
   "cell_type": "code",
   "execution_count": 12,
   "id": "31d9df9d-1b63-44c5-bbaf-6aff068f174c",
   "metadata": {},
   "outputs": [],
   "source": [
    "df.drop(columns=['srcbytes', 'dstbytes'], inplace=True)"
   ]
  },
  {
   "cell_type": "code",
   "execution_count": 13,
   "id": "6e859900-1413-44df-ad2a-687e95aba12e",
   "metadata": {},
   "outputs": [
    {
     "data": {
      "text/plain": [
       "wrongfragment\n",
       "0    109403\n",
       "Name: count, dtype: int64"
      ]
     },
     "execution_count": 13,
     "metadata": {},
     "output_type": "execute_result"
    }
   ],
   "source": [
    "df['wrongfragment'].value_counts()"
   ]
  },
  {
   "cell_type": "code",
   "execution_count": 14,
   "id": "4343300b-6c58-433a-a502-8bec01b1f1d2",
   "metadata": {},
   "outputs": [],
   "source": [
    "df.drop(columns=['wrongfragment'], inplace=True)"
   ]
  },
  {
   "cell_type": "code",
   "execution_count": 15,
   "id": "614adcbb-e036-4e75-8eff-46af35a43716",
   "metadata": {},
   "outputs": [
    {
     "data": {
      "text/plain": [
       "(109403, 42)"
      ]
     },
     "execution_count": 15,
     "metadata": {},
     "output_type": "execute_result"
    }
   ],
   "source": [
    "df.shape"
   ]
  },
  {
   "cell_type": "code",
   "execution_count": 16,
   "id": "50b2079b-4e09-444d-9d4e-af9fbe8bc169",
   "metadata": {},
   "outputs": [],
   "source": [
    "df['urgent'].value_counts()\n",
    "df.drop(columns=['urgent'], inplace=True)"
   ]
  },
  {
   "cell_type": "code",
   "execution_count": 17,
   "id": "77053b11-2595-4f44-ab7e-4b6e71fefc34",
   "metadata": {},
   "outputs": [],
   "source": [
    "df['combined_serror_rerror_rate'] = (df['serrorrate'] + df['rerrorrate'] ) / 2\n",
    "df['combined_srv_serror_rerror_rate'] = (df['srvserrorrate'] + df['srvrerrorrate'] ) / 2"
   ]
  },
  {
   "cell_type": "code",
   "execution_count": 18,
   "id": "49dd438c-a200-444a-99a1-547f7a6e2c72",
   "metadata": {},
   "outputs": [],
   "source": [
    "df['ratio_samesrvrate_diffsrvrate'] = df['samesrvrate'] / (df['diffsrvrate'] + 1e-6)"
   ]
  },
  {
   "cell_type": "code",
   "execution_count": 19,
   "id": "ff020347-b2ae-41f8-9e01-ea39594b7412",
   "metadata": {},
   "outputs": [],
   "source": [
    "df['service_host_distribution_ratio'] = df['samesrvrate'] / (df['srvdiffhostrate'] + 1e-6)"
   ]
  },
  {
   "cell_type": "code",
   "execution_count": 20,
   "id": "395ca7a9-49c5-4795-8409-956f697ea1a0",
   "metadata": {},
   "outputs": [],
   "source": [
    "df['combined_dsthostserrorrate_dsthostrerrorrate'] = df['dsthostserrorrate'] + (df['dsthostrerrorrate'] + 1e-6)"
   ]
  },
  {
   "cell_type": "code",
   "execution_count": 21,
   "id": "7b465b4b-aa1c-4bd1-953b-39ba5bd727c5",
   "metadata": {},
   "outputs": [],
   "source": [
    "df['combined_dsthostsrvserrorrate_dsthostsrvrerrorrate'] = df['dsthostsrvserrorrate'] +  (df['dsthostsrvrerrorrate'] + 1e-6) "
   ]
  },
  {
   "cell_type": "code",
   "execution_count": 22,
   "id": "20438e37-6c88-42ac-934e-fff0de74f99e",
   "metadata": {},
   "outputs": [],
   "source": [
    " df.drop(columns=['serrorrate','rerrorrate','srvserrorrate','srvrerrorrate',\n",
    "                    'samesrvrate','diffsrvrate','srvdiffhostrate','dsthostserrorrate',\n",
    "                  'dsthostrerrorrate','dsthostsrvserrorrate','dsthostsrvrerrorrate'],inplace=True)"
   ]
  },
  {
   "cell_type": "code",
   "execution_count": 23,
   "id": "9ff01043-75b9-4f63-acd4-b30b8e6fe0c8",
   "metadata": {},
   "outputs": [
    {
     "data": {
      "text/plain": [
       "Index(['duration', 'protocoltype', 'service', 'flag', 'land', 'hot',\n",
       "       'numfailedlogins', 'loggedin', 'numcompromised', 'rootshell',\n",
       "       'suattempted', 'numroot', 'numfilecreations', 'numshells',\n",
       "       'numaccessfiles', 'numoutboundcmds', 'ishostlogin', 'isguestlogin',\n",
       "       'count', 'srvcount', 'dsthostcount', 'dsthostsrvcount',\n",
       "       'dsthostsamesrvrate', 'dsthostdiffsrvrate', 'dsthostsamesrcportrate',\n",
       "       'dsthostsrvdiffhostrate', 'attack', 'lastflag', 'total_bytes',\n",
       "       'byte_ratio', 'combined_serror_rerror_rate',\n",
       "       'combined_srv_serror_rerror_rate', 'ratio_samesrvrate_diffsrvrate',\n",
       "       'service_host_distribution_ratio',\n",
       "       'combined_dsthostserrorrate_dsthostrerrorrate',\n",
       "       'combined_dsthostsrvserrorrate_dsthostsrvrerrorrate'],\n",
       "      dtype='object')"
      ]
     },
     "execution_count": 23,
     "metadata": {},
     "output_type": "execute_result"
    }
   ],
   "source": [
    "df.columns"
   ]
  },
  {
   "cell_type": "code",
   "execution_count": 24,
   "id": "12e83d9f-642b-4a7a-a591-66bd60789378",
   "metadata": {},
   "outputs": [
    {
     "data": {
      "text/plain": [
       "array(['ftp_data', 'other', 'private', 'http', 'remote_job', 'name',\n",
       "       'netbios_ns', 'mtp', 'finger', 'domain_u', 'supdup', 'uucp_path',\n",
       "       'z39_50', 'smtp', 'csnet_ns', 'eco_i', 'uucp', 'netbios_dgm',\n",
       "       'urp_i', 'auth', 'domain', 'ftp', 'bgp', 'ldap', 'ecr_i', 'telnet',\n",
       "       'vmnet', 'systat', 'http_443', 'efs', 'whois', 'gopher', 'imap4',\n",
       "       'iso_tsap', 'echo', 'klogin', 'link', 'sunrpc', 'login', 'kshell',\n",
       "       'time', 'sql_net', 'hostnames', 'exec', 'ntp_u', 'discard', 'nntp',\n",
       "       'courier', 'ctf', 'ssh', 'daytime', 'shell', 'netstat', 'pop_3',\n",
       "       'nnsp', 'pop_2', 'printer', 'irc', 'red_i', 'netbios_ssn', 'rje',\n",
       "       'x11', 'urh_i', 'tim_i'], dtype=object)"
      ]
     },
     "execution_count": 24,
     "metadata": {},
     "output_type": "execute_result"
    }
   ],
   "source": [
    "df['service'].unique()"
   ]
  },
  {
   "cell_type": "markdown",
   "id": "c2b3ac69-cd81-4714-8070-1a5c18043aba",
   "metadata": {},
   "source": [
    "### <b>  <i>  Data Transformation:"
   ]
  },
  {
   "cell_type": "markdown",
   "id": "115b4629-0358-4173-845d-41cbcc86c6bf",
   "metadata": {},
   "source": [
    "<i> Encoded the 'attack' column using LabelEncoder, replaced it with the new 'attack_encoded' column, and dropped the original 'attack' column."
   ]
  },
  {
   "cell_type": "code",
   "execution_count": 25,
   "id": "6d32503e-85e1-45e7-a140-346c64369c40",
   "metadata": {},
   "outputs": [
    {
     "data": {
      "text/html": [
       "<div>\n",
       "<style scoped>\n",
       "    .dataframe tbody tr th:only-of-type {\n",
       "        vertical-align: middle;\n",
       "    }\n",
       "\n",
       "    .dataframe tbody tr th {\n",
       "        vertical-align: top;\n",
       "    }\n",
       "\n",
       "    .dataframe thead th {\n",
       "        text-align: right;\n",
       "    }\n",
       "</style>\n",
       "<table border=\"1\" class=\"dataframe\">\n",
       "  <thead>\n",
       "    <tr style=\"text-align: right;\">\n",
       "      <th></th>\n",
       "      <th>duration</th>\n",
       "      <th>protocoltype</th>\n",
       "      <th>service</th>\n",
       "      <th>flag</th>\n",
       "      <th>land</th>\n",
       "      <th>hot</th>\n",
       "      <th>numfailedlogins</th>\n",
       "      <th>loggedin</th>\n",
       "      <th>numcompromised</th>\n",
       "      <th>rootshell</th>\n",
       "      <th>...</th>\n",
       "      <th>lastflag</th>\n",
       "      <th>total_bytes</th>\n",
       "      <th>byte_ratio</th>\n",
       "      <th>combined_serror_rerror_rate</th>\n",
       "      <th>combined_srv_serror_rerror_rate</th>\n",
       "      <th>ratio_samesrvrate_diffsrvrate</th>\n",
       "      <th>service_host_distribution_ratio</th>\n",
       "      <th>combined_dsthostserrorrate_dsthostrerrorrate</th>\n",
       "      <th>combined_dsthostsrvserrorrate_dsthostsrvrerrorrate</th>\n",
       "      <th>attack_encoded</th>\n",
       "    </tr>\n",
       "  </thead>\n",
       "  <tbody>\n",
       "    <tr>\n",
       "      <th>0</th>\n",
       "      <td>0</td>\n",
       "      <td>tcp</td>\n",
       "      <td>ftp_data</td>\n",
       "      <td>sf</td>\n",
       "      <td>0</td>\n",
       "      <td>0</td>\n",
       "      <td>0</td>\n",
       "      <td>0</td>\n",
       "      <td>0</td>\n",
       "      <td>0</td>\n",
       "      <td>...</td>\n",
       "      <td>20</td>\n",
       "      <td>491</td>\n",
       "      <td>491.000000</td>\n",
       "      <td>0.0</td>\n",
       "      <td>0.0</td>\n",
       "      <td>1000000.000000</td>\n",
       "      <td>1000000.000000</td>\n",
       "      <td>0.050001</td>\n",
       "      <td>0.000001</td>\n",
       "      <td>8</td>\n",
       "    </tr>\n",
       "    <tr>\n",
       "      <th>1</th>\n",
       "      <td>0</td>\n",
       "      <td>udp</td>\n",
       "      <td>other</td>\n",
       "      <td>sf</td>\n",
       "      <td>0</td>\n",
       "      <td>0</td>\n",
       "      <td>0</td>\n",
       "      <td>0</td>\n",
       "      <td>0</td>\n",
       "      <td>0</td>\n",
       "      <td>...</td>\n",
       "      <td>15</td>\n",
       "      <td>146</td>\n",
       "      <td>146.000000</td>\n",
       "      <td>0.0</td>\n",
       "      <td>0.0</td>\n",
       "      <td>0.533330</td>\n",
       "      <td>80000.000000</td>\n",
       "      <td>0.000001</td>\n",
       "      <td>0.000001</td>\n",
       "      <td>8</td>\n",
       "    </tr>\n",
       "    <tr>\n",
       "      <th>2</th>\n",
       "      <td>0</td>\n",
       "      <td>tcp</td>\n",
       "      <td>private</td>\n",
       "      <td>s0</td>\n",
       "      <td>0</td>\n",
       "      <td>0</td>\n",
       "      <td>0</td>\n",
       "      <td>0</td>\n",
       "      <td>0</td>\n",
       "      <td>0</td>\n",
       "      <td>...</td>\n",
       "      <td>19</td>\n",
       "      <td>0</td>\n",
       "      <td>0.000000</td>\n",
       "      <td>0.5</td>\n",
       "      <td>0.5</td>\n",
       "      <td>0.714276</td>\n",
       "      <td>50000.000000</td>\n",
       "      <td>1.000001</td>\n",
       "      <td>1.000001</td>\n",
       "      <td>6</td>\n",
       "    </tr>\n",
       "    <tr>\n",
       "      <th>3</th>\n",
       "      <td>0</td>\n",
       "      <td>tcp</td>\n",
       "      <td>http</td>\n",
       "      <td>sf</td>\n",
       "      <td>0</td>\n",
       "      <td>0</td>\n",
       "      <td>0</td>\n",
       "      <td>1</td>\n",
       "      <td>0</td>\n",
       "      <td>0</td>\n",
       "      <td>...</td>\n",
       "      <td>21</td>\n",
       "      <td>8385</td>\n",
       "      <td>0.028452</td>\n",
       "      <td>0.1</td>\n",
       "      <td>0.1</td>\n",
       "      <td>1000000.000000</td>\n",
       "      <td>1000000.000000</td>\n",
       "      <td>0.030001</td>\n",
       "      <td>0.020001</td>\n",
       "      <td>8</td>\n",
       "    </tr>\n",
       "    <tr>\n",
       "      <th>4</th>\n",
       "      <td>0</td>\n",
       "      <td>tcp</td>\n",
       "      <td>http</td>\n",
       "      <td>sf</td>\n",
       "      <td>0</td>\n",
       "      <td>0</td>\n",
       "      <td>0</td>\n",
       "      <td>1</td>\n",
       "      <td>0</td>\n",
       "      <td>0</td>\n",
       "      <td>...</td>\n",
       "      <td>21</td>\n",
       "      <td>619</td>\n",
       "      <td>0.472684</td>\n",
       "      <td>0.0</td>\n",
       "      <td>0.0</td>\n",
       "      <td>1000000.000000</td>\n",
       "      <td>11.110988</td>\n",
       "      <td>0.000001</td>\n",
       "      <td>0.000001</td>\n",
       "      <td>8</td>\n",
       "    </tr>\n",
       "  </tbody>\n",
       "</table>\n",
       "<p>5 rows × 36 columns</p>\n",
       "</div>"
      ],
      "text/plain": [
       "   duration protocoltype   service flag  land  hot  numfailedlogins  loggedin  \\\n",
       "0         0          tcp  ftp_data   sf     0    0                0         0   \n",
       "1         0          udp     other   sf     0    0                0         0   \n",
       "2         0          tcp   private   s0     0    0                0         0   \n",
       "3         0          tcp      http   sf     0    0                0         1   \n",
       "4         0          tcp      http   sf     0    0                0         1   \n",
       "\n",
       "   numcompromised  rootshell  ...  lastflag  total_bytes  byte_ratio  \\\n",
       "0               0          0  ...        20          491  491.000000   \n",
       "1               0          0  ...        15          146  146.000000   \n",
       "2               0          0  ...        19            0    0.000000   \n",
       "3               0          0  ...        21         8385    0.028452   \n",
       "4               0          0  ...        21          619    0.472684   \n",
       "\n",
       "   combined_serror_rerror_rate  combined_srv_serror_rerror_rate  \\\n",
       "0                          0.0                              0.0   \n",
       "1                          0.0                              0.0   \n",
       "2                          0.5                              0.5   \n",
       "3                          0.1                              0.1   \n",
       "4                          0.0                              0.0   \n",
       "\n",
       "   ratio_samesrvrate_diffsrvrate  service_host_distribution_ratio  \\\n",
       "0                 1000000.000000                   1000000.000000   \n",
       "1                       0.533330                     80000.000000   \n",
       "2                       0.714276                     50000.000000   \n",
       "3                 1000000.000000                   1000000.000000   \n",
       "4                 1000000.000000                        11.110988   \n",
       "\n",
       "   combined_dsthostserrorrate_dsthostrerrorrate  \\\n",
       "0                                      0.050001   \n",
       "1                                      0.000001   \n",
       "2                                      1.000001   \n",
       "3                                      0.030001   \n",
       "4                                      0.000001   \n",
       "\n",
       "   combined_dsthostsrvserrorrate_dsthostsrvrerrorrate  attack_encoded  \n",
       "0                                           0.000001                8  \n",
       "1                                           0.000001                8  \n",
       "2                                           1.000001                6  \n",
       "3                                           0.020001                8  \n",
       "4                                           0.000001                8  \n",
       "\n",
       "[5 rows x 36 columns]"
      ]
     },
     "execution_count": 25,
     "metadata": {},
     "output_type": "execute_result"
    }
   ],
   "source": [
    "label_encoder = LabelEncoder()\n",
    "df['attack_encoded'] = label_encoder.fit_transform(df['attack'])\n",
    "df.drop('attack', axis=1, inplace=True)\n",
    "df.head()"
   ]
  },
  {
   "cell_type": "markdown",
   "id": "dcbf90ee-1263-4be0-91c0-101a13c29c75",
   "metadata": {},
   "source": [
    "<i> Selected the first three categorical columns, encoded them using CatBoostEncoder, and replaced the original columns with the encoded features."
   ]
  },
  {
   "cell_type": "code",
   "execution_count": 26,
   "id": "f66b84b9-191a-4902-af8f-bb298ceb66ff",
   "metadata": {},
   "outputs": [],
   "source": [
    "categorical_columns =df.select_dtypes(include=['object', 'category']).columns.tolist()\n",
    "# Initializing CatBoostEncoder\n",
    "catboost_encoder =ce.CatBoostEncoder(cols=categorical_columns[:3])\n",
    "# Fiting and transforming the categorical features\n",
    "df_encoded_features =catboost_encoder.fit_transform(df[categorical_columns[:3]],df['attack_encoded'])\n",
    "df[categorical_columns[:3]]=df_encoded_features"
   ]
  },
  {
   "cell_type": "code",
   "execution_count": 27,
   "id": "33bd17ee-4a9b-44e0-bcb0-2d9ba000ec36",
   "metadata": {},
   "outputs": [
    {
     "data": {
      "text/html": [
       "<div>\n",
       "<style scoped>\n",
       "    .dataframe tbody tr th:only-of-type {\n",
       "        vertical-align: middle;\n",
       "    }\n",
       "\n",
       "    .dataframe tbody tr th {\n",
       "        vertical-align: top;\n",
       "    }\n",
       "\n",
       "    .dataframe thead th {\n",
       "        text-align: right;\n",
       "    }\n",
       "</style>\n",
       "<table border=\"1\" class=\"dataframe\">\n",
       "  <thead>\n",
       "    <tr style=\"text-align: right;\">\n",
       "      <th></th>\n",
       "      <th>protocoltype</th>\n",
       "      <th>service</th>\n",
       "      <th>flag</th>\n",
       "    </tr>\n",
       "  </thead>\n",
       "  <tbody>\n",
       "    <tr>\n",
       "      <th>0</th>\n",
       "      <td>7.255624</td>\n",
       "      <td>7.255624</td>\n",
       "      <td>7.255624</td>\n",
       "    </tr>\n",
       "    <tr>\n",
       "      <th>1</th>\n",
       "      <td>7.255624</td>\n",
       "      <td>7.255624</td>\n",
       "      <td>7.627812</td>\n",
       "    </tr>\n",
       "    <tr>\n",
       "      <th>2</th>\n",
       "      <td>7.627812</td>\n",
       "      <td>7.255624</td>\n",
       "      <td>7.255624</td>\n",
       "    </tr>\n",
       "    <tr>\n",
       "      <th>3</th>\n",
       "      <td>7.085208</td>\n",
       "      <td>7.255624</td>\n",
       "      <td>7.751875</td>\n",
       "    </tr>\n",
       "    <tr>\n",
       "      <th>4</th>\n",
       "      <td>7.313906</td>\n",
       "      <td>7.627812</td>\n",
       "      <td>7.813906</td>\n",
       "    </tr>\n",
       "  </tbody>\n",
       "</table>\n",
       "</div>"
      ],
      "text/plain": [
       "   protocoltype   service      flag\n",
       "0      7.255624  7.255624  7.255624\n",
       "1      7.255624  7.255624  7.627812\n",
       "2      7.627812  7.255624  7.255624\n",
       "3      7.085208  7.255624  7.751875\n",
       "4      7.313906  7.627812  7.813906"
      ]
     },
     "execution_count": 27,
     "metadata": {},
     "output_type": "execute_result"
    }
   ],
   "source": [
    "df[categorical_columns[:3]].head()"
   ]
  },
  {
   "cell_type": "code",
   "execution_count": 28,
   "id": "37c1cee3-754b-419b-8d43-b5924ec367b5",
   "metadata": {},
   "outputs": [
    {
     "data": {
      "text/html": [
       "<div>\n",
       "<style scoped>\n",
       "    .dataframe tbody tr th:only-of-type {\n",
       "        vertical-align: middle;\n",
       "    }\n",
       "\n",
       "    .dataframe tbody tr th {\n",
       "        vertical-align: top;\n",
       "    }\n",
       "\n",
       "    .dataframe thead th {\n",
       "        text-align: right;\n",
       "    }\n",
       "</style>\n",
       "<table border=\"1\" class=\"dataframe\">\n",
       "  <thead>\n",
       "    <tr style=\"text-align: right;\">\n",
       "      <th></th>\n",
       "      <th>duration</th>\n",
       "      <th>protocoltype</th>\n",
       "      <th>service</th>\n",
       "      <th>flag</th>\n",
       "      <th>land</th>\n",
       "      <th>hot</th>\n",
       "      <th>numfailedlogins</th>\n",
       "      <th>loggedin</th>\n",
       "      <th>numcompromised</th>\n",
       "      <th>rootshell</th>\n",
       "      <th>...</th>\n",
       "      <th>lastflag</th>\n",
       "      <th>total_bytes</th>\n",
       "      <th>byte_ratio</th>\n",
       "      <th>combined_serror_rerror_rate</th>\n",
       "      <th>combined_srv_serror_rerror_rate</th>\n",
       "      <th>ratio_samesrvrate_diffsrvrate</th>\n",
       "      <th>service_host_distribution_ratio</th>\n",
       "      <th>combined_dsthostserrorrate_dsthostrerrorrate</th>\n",
       "      <th>combined_dsthostsrvserrorrate_dsthostsrvrerrorrate</th>\n",
       "      <th>attack_encoded</th>\n",
       "    </tr>\n",
       "  </thead>\n",
       "  <tbody>\n",
       "    <tr>\n",
       "      <th>0</th>\n",
       "      <td>0</td>\n",
       "      <td>7.255624</td>\n",
       "      <td>7.255624</td>\n",
       "      <td>7.255624</td>\n",
       "      <td>0</td>\n",
       "      <td>0</td>\n",
       "      <td>0</td>\n",
       "      <td>0</td>\n",
       "      <td>0</td>\n",
       "      <td>0</td>\n",
       "      <td>...</td>\n",
       "      <td>20</td>\n",
       "      <td>491</td>\n",
       "      <td>491.000000</td>\n",
       "      <td>0.0</td>\n",
       "      <td>0.0</td>\n",
       "      <td>1000000.000000</td>\n",
       "      <td>1000000.000000</td>\n",
       "      <td>0.050001</td>\n",
       "      <td>0.000001</td>\n",
       "      <td>8</td>\n",
       "    </tr>\n",
       "    <tr>\n",
       "      <th>1</th>\n",
       "      <td>0</td>\n",
       "      <td>7.255624</td>\n",
       "      <td>7.255624</td>\n",
       "      <td>7.627812</td>\n",
       "      <td>0</td>\n",
       "      <td>0</td>\n",
       "      <td>0</td>\n",
       "      <td>0</td>\n",
       "      <td>0</td>\n",
       "      <td>0</td>\n",
       "      <td>...</td>\n",
       "      <td>15</td>\n",
       "      <td>146</td>\n",
       "      <td>146.000000</td>\n",
       "      <td>0.0</td>\n",
       "      <td>0.0</td>\n",
       "      <td>0.533330</td>\n",
       "      <td>80000.000000</td>\n",
       "      <td>0.000001</td>\n",
       "      <td>0.000001</td>\n",
       "      <td>8</td>\n",
       "    </tr>\n",
       "    <tr>\n",
       "      <th>2</th>\n",
       "      <td>0</td>\n",
       "      <td>7.627812</td>\n",
       "      <td>7.255624</td>\n",
       "      <td>7.255624</td>\n",
       "      <td>0</td>\n",
       "      <td>0</td>\n",
       "      <td>0</td>\n",
       "      <td>0</td>\n",
       "      <td>0</td>\n",
       "      <td>0</td>\n",
       "      <td>...</td>\n",
       "      <td>19</td>\n",
       "      <td>0</td>\n",
       "      <td>0.000000</td>\n",
       "      <td>0.5</td>\n",
       "      <td>0.5</td>\n",
       "      <td>0.714276</td>\n",
       "      <td>50000.000000</td>\n",
       "      <td>1.000001</td>\n",
       "      <td>1.000001</td>\n",
       "      <td>6</td>\n",
       "    </tr>\n",
       "    <tr>\n",
       "      <th>3</th>\n",
       "      <td>0</td>\n",
       "      <td>7.085208</td>\n",
       "      <td>7.255624</td>\n",
       "      <td>7.751875</td>\n",
       "      <td>0</td>\n",
       "      <td>0</td>\n",
       "      <td>0</td>\n",
       "      <td>1</td>\n",
       "      <td>0</td>\n",
       "      <td>0</td>\n",
       "      <td>...</td>\n",
       "      <td>21</td>\n",
       "      <td>8385</td>\n",
       "      <td>0.028452</td>\n",
       "      <td>0.1</td>\n",
       "      <td>0.1</td>\n",
       "      <td>1000000.000000</td>\n",
       "      <td>1000000.000000</td>\n",
       "      <td>0.030001</td>\n",
       "      <td>0.020001</td>\n",
       "      <td>8</td>\n",
       "    </tr>\n",
       "    <tr>\n",
       "      <th>4</th>\n",
       "      <td>0</td>\n",
       "      <td>7.313906</td>\n",
       "      <td>7.627812</td>\n",
       "      <td>7.813906</td>\n",
       "      <td>0</td>\n",
       "      <td>0</td>\n",
       "      <td>0</td>\n",
       "      <td>1</td>\n",
       "      <td>0</td>\n",
       "      <td>0</td>\n",
       "      <td>...</td>\n",
       "      <td>21</td>\n",
       "      <td>619</td>\n",
       "      <td>0.472684</td>\n",
       "      <td>0.0</td>\n",
       "      <td>0.0</td>\n",
       "      <td>1000000.000000</td>\n",
       "      <td>11.110988</td>\n",
       "      <td>0.000001</td>\n",
       "      <td>0.000001</td>\n",
       "      <td>8</td>\n",
       "    </tr>\n",
       "  </tbody>\n",
       "</table>\n",
       "<p>5 rows × 36 columns</p>\n",
       "</div>"
      ],
      "text/plain": [
       "   duration  protocoltype   service      flag  land  hot  numfailedlogins  \\\n",
       "0         0      7.255624  7.255624  7.255624     0    0                0   \n",
       "1         0      7.255624  7.255624  7.627812     0    0                0   \n",
       "2         0      7.627812  7.255624  7.255624     0    0                0   \n",
       "3         0      7.085208  7.255624  7.751875     0    0                0   \n",
       "4         0      7.313906  7.627812  7.813906     0    0                0   \n",
       "\n",
       "   loggedin  numcompromised  rootshell  ...  lastflag  total_bytes  \\\n",
       "0         0               0          0  ...        20          491   \n",
       "1         0               0          0  ...        15          146   \n",
       "2         0               0          0  ...        19            0   \n",
       "3         1               0          0  ...        21         8385   \n",
       "4         1               0          0  ...        21          619   \n",
       "\n",
       "   byte_ratio  combined_serror_rerror_rate  combined_srv_serror_rerror_rate  \\\n",
       "0  491.000000                          0.0                              0.0   \n",
       "1  146.000000                          0.0                              0.0   \n",
       "2    0.000000                          0.5                              0.5   \n",
       "3    0.028452                          0.1                              0.1   \n",
       "4    0.472684                          0.0                              0.0   \n",
       "\n",
       "   ratio_samesrvrate_diffsrvrate  service_host_distribution_ratio  \\\n",
       "0                 1000000.000000                   1000000.000000   \n",
       "1                       0.533330                     80000.000000   \n",
       "2                       0.714276                     50000.000000   \n",
       "3                 1000000.000000                   1000000.000000   \n",
       "4                 1000000.000000                        11.110988   \n",
       "\n",
       "   combined_dsthostserrorrate_dsthostrerrorrate  \\\n",
       "0                                      0.050001   \n",
       "1                                      0.000001   \n",
       "2                                      1.000001   \n",
       "3                                      0.030001   \n",
       "4                                      0.000001   \n",
       "\n",
       "   combined_dsthostsrvserrorrate_dsthostsrvrerrorrate  attack_encoded  \n",
       "0                                           0.000001                8  \n",
       "1                                           0.000001                8  \n",
       "2                                           1.000001                6  \n",
       "3                                           0.020001                8  \n",
       "4                                           0.000001                8  \n",
       "\n",
       "[5 rows x 36 columns]"
      ]
     },
     "execution_count": 28,
     "metadata": {},
     "output_type": "execute_result"
    }
   ],
   "source": [
    "df.head()"
   ]
  },
  {
   "cell_type": "code",
   "execution_count": 29,
   "id": "2c2bcae3-96fb-4498-94c8-6b2fac108069",
   "metadata": {},
   "outputs": [],
   "source": [
    "X = df.drop(columns=['attack_encoded'])\n",
    "y = df['attack_encoded']"
   ]
  },
  {
   "cell_type": "markdown",
   "id": "e714925c-b119-4db1-9495-1d31b33e8842",
   "metadata": {},
   "source": [
    "<i> Separated the features (X) by dropping 'attack_encoded' and set 'attack_encoded' as the target variable (y)."
   ]
  },
  {
   "cell_type": "markdown",
   "id": "76dafcb1-792a-465a-a56a-4e28f166239c",
   "metadata": {},
   "source": [
    "### <b> <i>Filtering Rare Classes and Updating Features and Target Variable : </i>"
   ]
  },
  {
   "cell_type": "code",
   "execution_count": 30,
   "id": "df27ef4d-5f7b-4eea-8d70-ee6091f95017",
   "metadata": {},
   "outputs": [
    {
     "name": "stdout",
     "output_type": "stream",
     "text": [
      "Class distribution after filtering: Counter({8: 62739, 6: 41111, 9: 1448, 7: 1148, 10: 1117, 11: 765, 0: 488, 4: 295, 12: 273, 3: 10})\n"
     ]
    }
   ],
   "source": [
    "threshold = 6\n",
    "class_counts = df['attack_encoded'].value_counts()\n",
    "\n",
    "# Finding classes with fewer samples than the threshold\n",
    "classes_to_remove = class_counts[class_counts < threshold].index\n",
    "\n",
    "# Droping rows with these classes\n",
    "df_filtered = df[~df['attack_encoded'].isin(classes_to_remove)]\n",
    "\n",
    "# Separating features and target\n",
    "X = df_filtered.drop('attack_encoded', axis=1)\n",
    "y = df_filtered['attack_encoded']\n",
    "print(\"Class distribution after filtering:\", Counter(y))"
   ]
  },
  {
   "cell_type": "markdown",
   "id": "ad2a9da9-4970-4782-845a-be67318fb80e",
   "metadata": {},
   "source": [
    "### <b> <i> Splitting Data and Balancing Classes with SMOTE :"
   ]
  },
  {
   "cell_type": "code",
   "execution_count": 31,
   "id": "85e8fb14-e186-4926-8ad6-8002adfdb3c0",
   "metadata": {},
   "outputs": [
    {
     "name": "stdout",
     "output_type": "stream",
     "text": [
      "Before SMOTE: Counter({8: 43792, 6: 28891, 9: 1011, 7: 811, 10: 774, 11: 542, 0: 359, 12: 197, 4: 190, 3: 8})\n",
      "After SMOTE: Counter({8: 43792, 6: 43792, 10: 43792, 9: 43792, 4: 43792, 12: 43792, 11: 43792, 0: 43792, 7: 43792, 3: 43792})\n"
     ]
    }
   ],
   "source": [
    "# Spliting the data into training and test sets\n",
    "X_train, X_test, y_train, y_test = train_test_split(X, y, test_size=0.3, random_state=42)\n",
    "# Applying SMOTE\n",
    "smote = SMOTE(random_state=42)\n",
    "X_resampled, y_resampled = smote.fit_resample(X_train, y_train)\n",
    "X,y=X_resampled, y_resampled\n",
    "print(\"Before SMOTE:\", Counter(y_train))\n",
    "print(\"After SMOTE:\", Counter(y_resampled))"
   ]
  },
  {
   "cell_type": "markdown",
   "id": "ef676aa4-2066-4eff-a9c3-c178e761bd30",
   "metadata": {},
   "source": [
    "<i> Split the dataset into training and test sets, then applied SMOTE to the training data to address class imbalance. The class distribution before and after SMOTE was printed to verify the balancing effect."
   ]
  },
  {
   "cell_type": "markdown",
   "id": "7b76ceaa-e5c9-47c8-8bd6-47342f618acf",
   "metadata": {},
   "source": [
    "### <b> <i> Hyperparameter Tuning and Evaluation of Bagging Classifier with Decision Tree :"
   ]
  },
  {
   "cell_type": "code",
   "execution_count": null,
   "id": "5d7aa667-faec-43d7-820b-8d3d4c45e8aa",
   "metadata": {},
   "outputs": [],
   "source": [
    "from sklearn.model_selection import train_test_split, StratifiedKFold, GridSearchCV\n",
    "from sklearn.ensemble import BaggingClassifier, AdaBoostClassifier\n",
    "from sklearn.tree import DecisionTreeClassifier\n",
    "from sklearn.metrics import accuracy_score\n",
    "X_train, X_test, y_train, y_test = train_test_split(X, y, test_size=0.2, random_state=42)\n",
    "# Initializing KFold\n",
    "stratified_kfold = StratifiedKFold(n_splits=2, shuffle=True, random_state=42)  \n",
    "# Initializing the Decision Tree and Bagging Classifier\n",
    "decision_tree = DecisionTreeClassifier(random_state=42)\n",
    "bagging_clf = BaggingClassifier(estimator=decision_tree, random_state=42) \n",
    "# Hyperparameter tuning for Bagging\n",
    "param_grid_bagging = {\n",
    "    'estimator__max_depth': [None,1, 2, 4, 6, 8, 10],  \n",
    "    'n_estimators': [10, 100]\n",
    "}\n",
    "grid_search_bagging = GridSearchCV(bagging_clf, param_grid_bagging, cv=stratified_kfold, scoring='accuracy')\n",
    "grid_search_bagging.fit(X_train, y_train)\n",
    "# Best parameters and cross-validation accuracy for Bagging\n",
    "print(\"Best parameters for Bagging:\", grid_search_bagging.best_params_)\n",
    "print(\"Best cross-validation accuracy for Bagging:\", grid_search_bagging.best_score_)\n",
    "# Testing the best model on the test set\n",
    "best_bagging_model = grid_search_bagging.best_estimator_\n",
    "y_pred_bagging = best_bagging_model.predict(X_test)\n",
    "print(\"Test accuracy for Bagging:\", accuracy_score(y_test, y_pred_bagging))"
   ]
  },
  {
   "cell_type": "markdown",
   "id": "d44e3a03-7411-4a27-ab93-80c25ff1e2f2",
   "metadata": {},
   "source": [
    "<i> Performed hyperparameter tuning on a Bagging Classifier using a Decision Tree as the base estimator, with GridSearchCV and StratifiedKFold cross-validation.\n",
    "\n",
    "<i> Found the optimal parameters to be {'estimator__max_depth': None, 'n_estimators': 100} and achieved a cross-validation accuracy of 0.99978.\n",
    "\n",
    "<i> Evaluated the tuned Bagging model on the test set, resulting in a high test accuracy of 0.99987."
   ]
  },
  {
   "cell_type": "markdown",
   "id": "6845da29-3b99-4e32-bcea-639cb277440d",
   "metadata": {},
   "source": [
    "### <b><i> Evaluation Metrics for Bagging Classifier with Decision Tree: Precision, Recall, and F1-Score :"
   ]
  },
  {
   "cell_type": "code",
   "execution_count": null,
   "id": "abb26803-dc62-4397-a75d-17483d420299",
   "metadata": {},
   "outputs": [],
   "source": [
    "y_pred = y_pred_bagging\n",
    "# Precision, Recall, F1-Score for each class\n",
    "precision = precision_score(y_test, y_pred, average=None)\n",
    "recall = recall_score(y_test, y_pred, average=None)\n",
    "f1 = f1_score(y_test, y_pred, average=None)\n",
    "# Creating DataFrames\n",
    "precision_df = pd.DataFrame({'Class': range(len(precision)), 'Precision': precision})\n",
    "recall_df = pd.DataFrame({'Class': range(len(recall)), 'Recall': recall})\n",
    "f1_df = pd.DataFrame({'Class': range(len(f1)), 'F1-Score': f1})\n",
    "# Adding weighted averages to the DataFrames\n",
    "precision_avg = precision_score(y_test, y_pred, average='weighted')\n",
    "recall_avg = recall_score(y_test, y_pred, average='weighted')\n",
    "f1_avg = f1_score(y_test, y_pred, average='weighted')\n",
    "# Converting weighted averages into DataFrames\n",
    "precision_avg_df = pd.DataFrame({'Class': ['Weighted Average'], 'Precision': [precision_avg]})\n",
    "recall_avg_df = pd.DataFrame({'Class': ['Weighted Average'], 'Recall': [recall_avg]})\n",
    "f1_avg_df = pd.DataFrame({'Class': ['Weighted Average'], 'F1-Score': [f1_avg]})\n",
    "# Concatenating original DataFrames with the average DataFrames\n",
    "precision_df = pd.concat([precision_df, precision_avg_df], ignore_index=True)\n",
    "recall_df = pd.concat([recall_df, recall_avg_df], ignore_index=True)\n",
    "f1_df = pd.concat([f1_df, f1_avg_df], ignore_index=True)\n",
    "\n",
    "print(\"Precision DataFrame:\")\n",
    "print(precision_df)\n",
    "print(\"\\nRecall DataFrame:\")\n",
    "print(recall_df)\n",
    "print(\"\\nF1-Score DataFrame:\")\n",
    "print(f1_df)"
   ]
  },
  {
   "cell_type": "markdown",
   "id": "9496579b-06fd-4ee8-a0c4-daa63070ac53",
   "metadata": {},
   "source": [
    "<i> Precision: The classifier achieved near-perfect precision for most classes, with a weighted average precision of 0.999874.\n",
    "\n",
    "<i> Recall: The classifier exhibited high recall across all classes, with a weighted average recall of 0.999874.\n",
    "\n",
    "<i> F1-Score: The F1-scores were very high, with a weighted average F1-score of 0.999874, indicating a strong overall performance."
   ]
  },
  {
   "cell_type": "markdown",
   "id": "d1bb16f2-785d-4171-b619-49f89c08b1fa",
   "metadata": {},
   "source": [
    "### <b> <i> Confusion Matrix for Bagging Classifier with Decision Tree :"
   ]
  },
  {
   "cell_type": "code",
   "execution_count": null,
   "id": "50ef9ca9-0886-4422-bc38-5a450c4262f0",
   "metadata": {},
   "outputs": [],
   "source": [
    "#Ploting confusion matrix\n",
    "cm = confusion_matrix(y_test, y_pred)\n",
    "plt.figure(figsize=(8,5))\n",
    "sns.heatmap(cm, annot=True, fmt='d', cmap='Blues', xticklabels=range(len(precision)), yticklabels=range(len(precision)))\n",
    "plt.xlabel('Predicted labels')\n",
    "plt.ylabel('True labels')\n",
    "plt.title('Confusion Matrix')\n",
    "plt.show()"
   ]
  },
  {
   "cell_type": "markdown",
   "id": "8ebeec2f-47b4-4364-93ad-4bc3d53ea5d5",
   "metadata": {},
   "source": [
    "### <b> <i> Feature Importances from Bagging Classifier with Decision Tree :"
   ]
  },
  {
   "cell_type": "code",
   "execution_count": null,
   "id": "29be73a8-e900-4390-b7f1-89c445ad4ee6",
   "metadata": {},
   "outputs": [],
   "source": [
    "# Extracting feature importances from the best model\n",
    "feature_importances =best_bagging_model.estimators_[0].feature_importances_\n",
    "# Creating a DataFrame for plotting\n",
    "features_df=pd.DataFrame({\n",
    "    'Feature': X.columns,\n",
    "'Importance': feature_importances\n",
    "})\n",
    "# Sorting the DataFrame by importance\n",
    "features_df=features_df.sort_values(by='Importance', ascending=False)\n",
    "# Ploting feature importances\n",
    "plt.figure(figsize=(12, 8))\n",
    "sns.barplot(x='Importance', y='Feature', data=features_df)\n",
    "plt.title('Feature Importances')\n",
    "plt.xlabel('Importance')\n",
    "plt.ylabel('Feature')\n",
    "plt.show()"
   ]
  },
  {
   "cell_type": "markdown",
   "id": "5bf05835-4981-486f-ac38-e924f3002d23",
   "metadata": {},
   "source": [
    "<i>  'service', 'total_bytes', and 'dsthostcount' are the most important features in your model. "
   ]
  },
  {
   "cell_type": "markdown",
   "id": "b1af2872-d30d-4f4b-831c-77830867a259",
   "metadata": {},
   "source": [
    "### <b> <i> Gradient Boosting Classifier Hyperparameter Tuning and Evaluation :"
   ]
  },
  {
   "cell_type": "code",
   "execution_count": null,
   "id": "2915034d-8038-495e-a92b-7d14df23b1de",
   "metadata": {},
   "outputs": [],
   "source": [
    "from sklearn.ensemble import GradientBoostingClassifier\n",
    "from sklearn.model_selection import GridSearchCV, StratifiedKFold\n",
    "from sklearn.metrics import accuracy_score\n",
    "\n",
    "# Initializing the Gradient Boosting Classifier\n",
    "gb_clf = GradientBoostingClassifier(random_state=42)\n",
    "# Hyperparameters tuning\n",
    "param_grid_gb ={\n",
    "    'n_estimators': [10],\n",
    "    'learning_rate': [0.2],\n",
    "    'max_depth': [5],\n",
    "    'subsample': [0.8]\n",
    "}\n",
    "# Stratified K-Fold cross-validation\n",
    "stratified_kfold = StratifiedKFold(n_splits=3, shuffle=True, random_state=42)\n",
    "# GridSearchCV\n",
    "grid_search_gb = GridSearchCV(gb_clf, param_grid_gb, cv=stratified_kfold, scoring='accuracy', n_jobs=-1)\n",
    "grid_search_gb.fit(X_train, y_train)\n",
    "# Best parameters and cross-validation accuracy for Gradient Boosting\n",
    "print(\"Best parameters for Gradient Boosting:\", grid_search_gb.best_params_)\n",
    "print(\"Best cross-validation accuracy for Gradient Boosting:\", grid_search_gb.best_score_)\n",
    "# Testing the best model on the test set\n",
    "best_gb_model = grid_search_gb.best_estimator_\n",
    "y_pred_gb = best_gb_model.predict(X_test)\n",
    "print(\"Test accuracy for Gradient Boosting:\", accuracy_score(y_test, y_pred_gb))"
   ]
  },
  {
   "cell_type": "markdown",
   "id": "bcb8c8be-f01b-4dd9-8d30-a3542b12c9b7",
   "metadata": {},
   "source": [
    "<i> * Best Parameters: The optimal parameters for the Gradient Boosting Classifier were {'learning_rate': 0.2, 'max_depth': 5, 'n_estimators': 10, 'subsample': 0.8}.\n",
    "\n",
    "<i> * Cross-Validation Accuracy: Achieved a high accuracy of 0.99937 during cross-validation.\n",
    "\n",
    "<i> * Test Accuracy: Demonstrated a test accuracy of 0.99934, reflecting strong performance on unseen data."
   ]
  },
  {
   "cell_type": "markdown",
   "id": "4b634cee-667f-4b77-9573-2a586d3f723e",
   "metadata": {},
   "source": [
    "### <b>  <i> Feature Importances from Gradient Boosting Model :"
   ]
  },
  {
   "cell_type": "code",
   "execution_count": null,
   "id": "a0fe16da-332e-4643-b785-3bc6481d905c",
   "metadata": {},
   "outputs": [],
   "source": [
    "feature_importances = best_gb_model.feature_importances_\n",
    "# Creating a DataFrame for plotting\n",
    "features_df = pd.DataFrame({\n",
    "    'Feature': X.columns,\n",
    "    'Importance': feature_importances\n",
    "})\n",
    "features_df = features_df.sort_values(by='Importance', ascending=False)\n",
    "plt.figure(figsize=(12, 8))\n",
    "sns.barplot(x='Importance', y='Feature', data=features_df)\n",
    "plt.title('Feature Importances from Gradient Boosting Model')\n",
    "plt.xlabel('Importance')\n",
    "plt.ylabel('Feature')\n",
    "plt.show()"
   ]
  },
  {
   "cell_type": "markdown",
   "id": "dff72315-494e-4342-a7d3-dabcf59e9806",
   "metadata": {},
   "source": [
    "<i> - Top Features: The Gradient Boosting model identified 'service', 'flag', and 'byte_ratio' as the top three features with the highest importance.\n",
    "\n",
    "<i> - Visualization: A bar plot was created to illustrate the importance of each feature, highlighting these top features as most influential in the model."
   ]
  },
  {
   "cell_type": "markdown",
   "id": "e93c5115-bb52-4f45-a421-c49e27122a9b",
   "metadata": {},
   "source": [
    "### <b> <i> AdaBoost with SVM: Hyperparameter Tuning, Model Evaluation, and Feature Importances:"
   ]
  },
  {
   "cell_type": "code",
   "execution_count": null,
   "id": "35de9cd1-0ee4-48c3-9630-c6858eb362ef",
   "metadata": {},
   "outputs": [],
   "source": [
    "# from sklearn.svm import SVC\n",
    "# from sklearn.ensemble import AdaBoostClassifier\n",
    "# from sklearn.model_selection import GridSearchCV, train_test_split, StratifiedKFold\n",
    "# from sklearn.metrics import accuracy_score\n",
    "\n",
    "# # Spliting the data into training and testing sets\n",
    "# X_train, X_test, y_train, y_test = train_test_split(X, y, test_size=0.3, random_state=42)\n",
    "\n",
    "# # StratifiedKFold\n",
    "# stratified_kfold = StratifiedKFold(n_splits=3, shuffle=True, random_state=42)\n",
    "\n",
    "# # SVM classifier\n",
    "# svm = SVC(kernel='linear', probability=True, random_state=42)\n",
    "\n",
    "# # AdaBoost classifier with SVM as the base estimator, using the SAMME algorithm\n",
    "# ada_boost_svm = AdaBoostClassifier(estimator=svm, algorithm='SAMME', random_state=42)\n",
    "\n",
    "# # Hyperparameter tuning for AdaBoost with SVM\n",
    "# param_grid_boosting = {\n",
    "#     'estimator__C': [0.1],  # Regularization parameter for SVM\n",
    "#     'n_estimators': [10],\n",
    "#     'learning_rate': [0.01]\n",
    "# }\n",
    "\n",
    "# grid_search_boosting = GridSearchCV(ada_boost_svm, param_grid_boosting, cv=stratified_kfold, scoring='accuracy')\n",
    "# grid_search_boosting.fit(X_train, y_train)\n",
    "\n",
    "# # Best parameters and cross-validation accuracy for AdaBoost with SVM\n",
    "# print(\"Best parameters for AdaBoost with SVM:\", grid_search_boosting.best_params_)\n",
    "# print(\"Best cross-validation accuracy for AdaBoost with SVM:\", grid_search_boosting.best_score_)\n",
    "\n",
    "# # Testing the best model on the test set\n",
    "# best_boosting_svm_model = grid_search_boosting.best_estimator_\n",
    "# y_pred_boosting = best_boosting_svm_model.predict(X_test)\n",
    "# print(\"Test accuracy for AdaBoost with SVM:\", accuracy_score(y_test, y_pred_boosting))\n",
    "\n",
    "# # Feature importance for linear SVM (based on absolute coefficients)\n",
    "# feature_importances = abs(best_boosting_svm_model.estimator_.coef_[0])\n",
    "\n",
    "# # Creating a DataFrame for feature importances\n",
    "# features_df = pd.DataFrame({\n",
    "#     'Feature': X.columns,\n",
    "#     'Importance': feature_importances\n",
    "# })\n",
    "\n",
    "# # Sorting the DataFrame by importance\n",
    "# features_df = features_df.sort_values(by='Importance', ascending=False)\n",
    "\n",
    "# # Ploting feature importances\n",
    "# plt.figure(figsize=(12, 8))\n",
    "# sns.barplot(x='Importance', y='Feature', data=features_df)\n",
    "# plt.title('Feature Importances from AdaBoost with SVM')\n",
    "# plt.xlabel('Importance')\n",
    "# plt.ylabel('Feature')\n",
    "# plt.show()"
   ]
  },
  {
   "cell_type": "markdown",
   "id": "819e1ac8-1193-4bd0-bc3b-c5f9f16650ae",
   "metadata": {},
   "source": [
    "<i> - Model Setup: Planned to use AdaBoost with a linear SVM as the base estimator and perform hyperparameter tuning for C, n_estimators, and learning_rate.\n",
    "\n",
    "<i> - Model Evaluation: Intended to evaluate the model's performance using GridSearchCV and report the best parameters, cross-validation accuracy, and test accuracy.\n",
    "\n",
    "<i>  - Feature Importances: Aimed to extract and visualize feature importances based on SVM coefficients.\n",
    "#### <b> <i> Note: Due to computational expense, the code was not executed"
   ]
  },
  {
   "cell_type": "markdown",
   "id": "7afcc2af-da71-4cb9-9caa-13ac27191c61",
   "metadata": {},
   "source": [
    "### <b>  <i> K-means Clustering: Evaluation Metrics :"
   ]
  },
  {
   "cell_type": "code",
   "execution_count": null,
   "id": "ada85e2a-b1ad-44fc-90c3-724a8564a064",
   "metadata": {
    "scrolled": true
   },
   "outputs": [],
   "source": [
    "from sklearn.cluster import KMeans\n",
    "from sklearn.metrics import silhouette_score, davies_bouldin_score\n",
    "from sklearn.preprocessing import StandardScaler\n",
    "\n",
    "# Standardizing the data before clustering\n",
    "scaler = StandardScaler()\n",
    "X_scaled = scaler.fit_transform(X)\n",
    "\n",
    "# K-means clustering\n",
    "kmeans = KMeans(n_clusters=3, random_state=42)  # Adjust n_clusters as needed\n",
    "kmeans_labels = kmeans.fit_predict(X_scaled)\n",
    "\n",
    "# Calculating evaluation metrics\n",
    "silhouette_kmeans = silhouette_score(X_scaled, kmeans_labels)\n",
    "davies_bouldin_kmeans = davies_bouldin_score(X_scaled, kmeans_labels)\n",
    "\n",
    "print(\"K-means Silhouette Score:\", silhouette_kmeans)\n",
    "print(\"K-means Davies-Bouldin Index:\", davies_bouldin_kmeans)"
   ]
  },
  {
   "cell_type": "markdown",
   "id": "c62ed0fb-114d-4508-b1d2-de2135151dee",
   "metadata": {},
   "source": [
    "<i> - Silhouette Score: 0.272. This indicates that the clusters are somewhat separated but could potentially be improved. Values closer to 1 suggest well-separated clusters, while values closer to 0 suggest overlapping clusters.\n",
    "\n",
    "<i> - Davies-Bouldin Index: 1.450. This value indicates the average similarity ratio of each cluster to its most similar cluster. Lower values are better, indicating more distinct and well-separated clusters. A value of 1.450 suggests that there is some overlap between clusters.\n",
    "\n",
    "<i> - Overall, these metrics suggest that the current clustering configuration might benefit from further tuning or exploration of different numbers of clusters"
   ]
  },
  {
   "cell_type": "markdown",
   "id": "3f9f9bac-87c4-4488-b4d7-a9b7b8f1167b",
   "metadata": {},
   "source": [
    "### <b> <i> DBSCAN Clustering: Evaluation Metrics :"
   ]
  },
  {
   "cell_type": "code",
   "execution_count": null,
   "id": "680b42f5-ad67-433d-a186-8fc2520a1aeb",
   "metadata": {},
   "outputs": [],
   "source": [
    "# from sklearn.cluster import DBSCAN\n",
    "# # DBSCAN clustering\n",
    "# dbscan = DBSCAN(eps=0.5, min_samples=5)  # Adjust eps and min_samples as needed\n",
    "# dbscan_labels = dbscan.fit_predict(X_scaled)\n",
    "# # Calculating evaluation metrics\n",
    "# silhouette_dbscan = silhouette_score(X_scaled, dbscan_labels) if len(set(dbscan_labels)) > 1 else \"N/A\"\n",
    "# davies_bouldin_dbscan = davies_bouldin_score(X_scaled, dbscan_labels) if len(set(dbscan_labels)) > 1 else \"N/A\"\n",
    "# print(\"DBSCAN Silhouette Score:\", silhouette_dbscan)\n",
    "# print(\"DBSCAN Davies-Bouldin Index:\", davies_bouldin_dbscan) "
   ]
  },
  {
   "cell_type": "markdown",
   "id": "72662d88-621f-4517-b9e3-8b31bb40032e",
   "metadata": {},
   "source": [
    "<i> - The DBSCAN algorithm was applied with eps=0.5 and min_samples=5 to cluster the data. Evaluation metrics were calculated to assess clustering quality\n",
    "#### <b> <i> Note: Due to computational expense, the code was not executed."
   ]
  },
  {
   "cell_type": "markdown",
   "id": "64a6c822-9b2c-48c1-92f7-3176c45d006b",
   "metadata": {},
   "source": [
    "### <b> <i> t-SNE Visualization: Actual Labels vs. K-means Clustering :"
   ]
  },
  {
   "cell_type": "code",
   "execution_count": null,
   "id": "7dab97fc-e601-42b6-8493-eccfef5e9b33",
   "metadata": {},
   "outputs": [],
   "source": [
    "import matplotlib.pyplot as plt\n",
    "import seaborn as sns\n",
    "from sklearn.manifold import TSNE\n",
    "\n",
    "# Appling t-SNE to reduce dimensions to 2D for visualization\n",
    "tsne = TSNE(n_components=2, random_state=42)\n",
    "X_tsne = tsne.fit_transform(X_scaled)\n",
    "\n",
    "# Plotting actual data\n",
    "plt.figure(figsize=(18, 6))\n",
    "\n",
    "# Actual Labels\n",
    "plt.subplot(1, 3, 1)\n",
    "sns.scatterplot(x=X_tsne[:, 0], y=X_tsne[:, 1], hue=y, palette='tab10', legend='full')\n",
    "plt.title('t-SNE: Actual Labels')\n",
    "plt.xlabel('t-SNE Component 1')\n",
    "plt.ylabel('t-SNE Component 2')\n",
    "\n",
    "# K-means Labels\n",
    "plt.subplot(1, 3, 2)\n",
    "sns.scatterplot(x=X_tsne[:, 0], y=X_tsne[:, 1], hue=kmeans_labels, palette='tab10', legend='full')\n",
    "plt.title('t-SNE: K-means Clustering')\n",
    "plt.xlabel('t-SNE Component 1')\n",
    "plt.ylabel('t-SNE Component 2')\n",
    "\n",
    "# # DBSCAN Labels\n",
    "# plt.subplot(1, 3, 3)\n",
    "# sns.scatterplot(x=X_tsne[:, 0], y=X_tsne[:, 1], hue=dbscan_labels, palette='tab10', legend='full')\n",
    "# plt.title('t-SNE: DBSCAN Clustering')\n",
    "# plt.xlabel('t-SNE Component 1')\n",
    "# plt.ylabel('t-SNE Component 2')\n",
    "\n",
    "plt.tight_layout()\n",
    "plt.show()"
   ]
  },
  {
   "cell_type": "markdown",
   "id": "76f8765b-a582-421b-ae86-55c433bf86e3",
   "metadata": {},
   "source": [
    "### <b> <i> Final Conclusion:"
   ]
  },
  {
   "cell_type": "markdown",
   "id": "94a45f1c-f5a3-4a0c-a2db-c4ecd61c2ec1",
   "metadata": {},
   "source": [
    "<b> <i> In our analysis of network anomaly detection using various machine learning techniques:\n",
    "\n",
    "<b> <i> * Data Preprocessing and Resampling:\n",
    "\n",
    " <i> We filtered the dataset to remove underrepresented classes and applied SMOTE to handle class imbalance.\n",
    "\n",
    "<b> <i> * Model Evaluation:\n",
    "\n",
    " <i> Bagging with Decision Tree: Achieved high accuracy with optimal parameters, demonstrating robust performance. Feature importance indicated 'service', 'total_bytes', and 'dsthostcount' were key.\n",
    "\n",
    " <i> Gradient Boosting: Also performed exceptionally well, with 'service', 'flag', and 'byte_ratio' as top features. This model showed high accuracy and good cross-validation results.\n",
    "\n",
    " <i> AdaBoost with SVM: Computationally expensive, so the execution was skipped due to resource constraints.\n",
    "\n",
    "<b> <i> * Clustering Analysis:\n",
    "\n",
    "<i> K-means: Provided silhouette and Davies-Bouldin scores, indicating the clustering quality. The scores suggest moderate clustering performance.\n",
    "\n",
    "<i> DBSCAN: Not executed due to computational expense, which limited our ability to evaluate its clustering quality.\n",
    "\n",
    "<b> <i> * Dimensionality Reduction:\n",
    "\n",
    "<i> t-SNE Visualization: Visualized the dataset in 2D, comparing actual labels with K-means clustering results, revealing the clustering performance relative to true labels. DBSCAN results were not included due to computational constraints.\n",
    "\n",
    "<b> <i> * Overall, both Bagging with Decision Tree and Gradient Boosting Classifier demonstrated strong performance in classifying anomalies, while K-means clustering provided insights into the clustering structure of the data. DBSCAN's computational expense prevented its execution."
   ]
  }
 ],
 "metadata": {
  "kernelspec": {
   "display_name": "Python 3 (ipykernel)",
   "language": "python",
   "name": "python3"
  },
  "language_info": {
   "codemirror_mode": {
    "name": "ipython",
    "version": 3
   },
   "file_extension": ".py",
   "mimetype": "text/x-python",
   "name": "python",
   "nbconvert_exporter": "python",
   "pygments_lexer": "ipython3",
   "version": "3.12.3"
  }
 },
 "nbformat": 4,
 "nbformat_minor": 5
}
